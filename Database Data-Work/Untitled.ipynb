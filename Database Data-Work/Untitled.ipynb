{
 "cells": [
  {
   "cell_type": "code",
   "execution_count": 10,
   "id": "001b0055",
   "metadata": {},
   "outputs": [
    {
     "name": "stdout",
     "output_type": "stream",
     "text": [
      "['African Lion', 'American Alligator', 'Arctic Fox', 'Bateleur', 'Bateleur', 'Bateleur', 'Black-tailed Rattlesnake', 'Bobcat', 'Cacomistle', 'California Sea Lion', 'California Sea Lion', 'Canvasback (female)', 'Canvasback (male)', 'Central African Rock Python', 'Chimpanzee', 'Common Vampire Bat', 'Cougar', 'Cougar', 'Cougar', 'Cougar', 'Fennec Fox', 'Fennec Fox', 'Golden-crested Myna', \"Grant's Zebra\", 'Hamadryas Baboon', 'Hamadryas Baboon', 'Hamadryas Baboon', 'Hottentot Teal', 'Nicobar Pigeon', 'Ocelot', 'Ostrich (female)', 'Parakeet Auklet', 'Parakeet Auklet', 'Patas Monkey', 'Patas Monkey', 'Patas Monkey', 'Patas Monkey', 'Peregrine Falcon', 'Polar Bear', 'Polar Bear', 'Red-billed Leiothrix', 'Red-billed Leiothrix', 'Red-billed Leiothrix', 'Red-footed Tortoise', 'Reticulated Giraffe', 'Reticulated Giraffe', 'Ruddy Duck', 'Serval', 'Striped Mud Turtle', 'Unidentified Bird', 'Victoria Crowned Pigeon', 'Victoria Crowned Pigeon', 'Warthog', 'Western Lowland Gorilla', 'White-backed Duck', 'White-backed Duck', 'White-backed Duck', 'Wood Duck (female & male)']\n"
     ]
    }
   ],
   "source": [
    "with open(\"./zooanimal.txt\", \"r\") as f:\n",
    "    content = f.read()\n",
    "\n",
    "photo_data_str = content.strip().replace(\"let photoData = \", \"\")[:-1]\n",
    "photo_data = eval(photo_data_str)\n",
    "\n",
    "animal_names = [d[\"animalName\"] for d in photo_data]\n",
    "scientific_names = [d[\"scientificName\"] for d in photo_data]\n",
    "zoo_locations = [d[\"location\"] for d in photo_data]\n",
    "print(animal_names)"
   ]
  },
  {
   "cell_type": "code",
   "execution_count": 11,
   "id": "164ee143",
   "metadata": {},
   "outputs": [],
   "source": [
    "import csv\n",
    "\n",
    "# Write the data to a CSV file\n",
    "with open(\"animal_data.csv\", \"w\", newline=\"\") as csvfile:\n",
    "    fieldnames = [\"animal_name\", \"scientific_name\", \"location\"]\n",
    "    writer = csv.DictWriter(csvfile, fieldnames=fieldnames)\n",
    "\n",
    "    writer.writeheader()\n",
    "\n",
    "    for photo in photo_data:\n",
    "        writer.writerow({\n",
    "            \"animal_name\": photo[\"animalName\"],\n",
    "            \"scientific_name\": photo[\"scientificName\"],\n",
    "            \"location\": photo[\"location\"]\n",
    "        })\n"
   ]
  },
  {
   "cell_type": "code",
   "execution_count": 12,
   "id": "458ef53f",
   "metadata": {},
   "outputs": [
    {
     "name": "stdout",
     "output_type": "stream",
     "text": [
      "['Alligator Snapping Turtle', 'American Alligator', 'American Flamingo (juvenile)', 'American Flamingo', 'American Flamingo (juvenile)', 'American Flamingo', 'American Flamingo (juvenile)', 'American Wigeon (female)', 'Bateleur', 'Bateleur', 'Bengal Tiger (white)', 'Black-bellied Whistling Duck', 'Black-necked Spitting Cobra', 'Black-necked Swan', 'Blue-black Grosbeak', 'Blue-black Grosbeak', 'Brazilian Lancehead', 'Brazilian Lancehead', 'Caatinga Lancehead', 'Cape Coral Cobra', 'Central American Bushmaster', 'Domestic Greylag Goose', 'Eastern Green Mamba', \"Franklin's Gull\", 'Fulvous Whistling Duck', \"Grant's Zebra\", 'Greater Rhea', 'Guanaco', 'Guanaco', 'Guanaco', 'Guanaco', 'Helmeted Guineafowl', 'Helmeted Guineafowl', \"Jameson's Mamba\", 'King Cobra', 'Lilac-crowned Amazon', 'Mallard (nonbreeding male)', 'Mallard (nonbreeding male)', 'Mallard (female)', 'Maned Wolf', 'Maned Wolf', 'Maned Wolf', 'Mangrove Snake', \"Meller's Chameleon\", \"Meller's Chameleon\", 'Mexican Beaded Lizard', 'Mexican Pine Snake', 'Mississippi Kite', 'Northern Shoveler (female)', 'Painted Bunting (male)', 'Plumed Basilisk', 'Prehensile-tailed Porcupine', 'Prehensile-tailed Porcupine', 'Red Spitting Cobra', 'Redhead (female)', 'Reticulated Giraffe', 'Reticulated Giraffe', 'Reticulated Giraffe', 'Ridge-nosed Rattlesnake', 'Ring-necked Dove', 'Sandhill Crane', 'Sandhill Crane', 'Scarlet Macaw', 'Scissor-tailed Flycatcher', 'Scissor-tailed Flycatcher', 'Southeast African Lion (male)', 'Southeast African Lion (female)', 'Southern Screamer', 'Southern Screamer', \"Swainson's Hawk\", 'Texas Map Turtle', 'Texas Map Turtle', 'Timber Rattlesnake', 'Tokay Gecko', 'West African Gaboon Viper', 'Western Diamondback Rattlesnake', 'Wood Duck (female)', \"Yarrow's Spiny Lizard\", 'Yellow-billed Stork', 'Yellow-billed Stork']\n"
     ]
    }
   ],
   "source": [
    "with open(\"./zooanimal2.txt\", \"r\") as f:\n",
    "    content = f.read()\n",
    "\n",
    "photo_data_str = content.strip().replace(\"let photoData = \", \"\")[:-1]\n",
    "photo_data = eval(photo_data_str)\n",
    "\n",
    "animal_names = [d[\"animalName\"] for d in photo_data]\n",
    "scientific_names = [d[\"scientificName\"] for d in photo_data]\n",
    "zoo_locations = [d[\"location\"] for d in photo_data]\n",
    "print(animal_names)\n",
    "import csv\n",
    "\n",
    "# Write the data to a CSV file\n",
    "with open(\"animal_data2.csv\", \"w\", newline=\"\") as csvfile:\n",
    "    fieldnames = [\"animal_name\", \"scientific_name\", \"location\"]\n",
    "    writer = csv.DictWriter(csvfile, fieldnames=fieldnames)\n",
    "\n",
    "    writer.writeheader()\n",
    "\n",
    "    for photo in photo_data:\n",
    "        writer.writerow({\n",
    "            \"animal_name\": photo[\"animalName\"],\n",
    "            \"scientific_name\": photo[\"scientificName\"],\n",
    "            \"location\": photo[\"location\"]\n",
    "        })\n"
   ]
  },
  {
   "cell_type": "code",
   "execution_count": 13,
   "id": "bb4ec232",
   "metadata": {},
   "outputs": [],
   "source": [
    "with open(\"./zooanimal3.txt\", \"r\") as f:\n",
    "    content = f.read()\n",
    "\n",
    "photo_data_str = content.strip().replace(\"let photoData = \", \"\")[:-1]\n",
    "photo_data = eval(photo_data_str)\n",
    "\n",
    "animal_names = [d[\"animalName\"] for d in photo_data]\n",
    "scientific_names = [d[\"scientificName\"] for d in photo_data]\n",
    "zoo_locations = [d[\"location\"] for d in photo_data]\n",
    "import csv\n",
    "\n",
    "# Write the data to a CSV file\n",
    "with open(\"animal_data3.csv\", \"w\", newline=\"\") as csvfile:\n",
    "    fieldnames = [\"animal_name\", \"scientific_name\", \"location\"]\n",
    "    writer = csv.DictWriter(csvfile, fieldnames=fieldnames)\n",
    "\n",
    "    writer.writeheader()\n",
    "\n",
    "    for photo in photo_data:\n",
    "        writer.writerow({\n",
    "            \"animal_name\": photo[\"animalName\"],\n",
    "            \"scientific_name\": photo[\"scientificName\"],\n",
    "            \"location\": photo[\"location\"]\n",
    "        })\n"
   ]
  },
  {
   "cell_type": "code",
   "execution_count": 3,
   "id": "23f32387",
   "metadata": {},
   "outputs": [
    {
     "name": "stdout",
     "output_type": "stream",
     "text": [
      "\"\" [Organism] OR \"Equus quagga boehmi\" [Organism] OR \"Oxyura jamaicensis\" [Organism] OR \"Ampeliceps coronatus\" [Organism] OR \"Naja pallida\" [Organism] OR \"Basiliscus plumifrons\" [Organism] OR \"Aythya valisineria\" [Organism] OR \"Dendrocygna bicolor\" [Organism] OR \"Macrochelys temminckii\" [Organism] OR \"Zalophus californianus\" [Organism] OR \"Anser anser\" [Organism] OR \"Erythrocebus patas\" [Organism] OR \"Puma concolor\" [Organism] OR \"Struthio camelus\" [Organism] OR \"Phacochoerus sp.\" [Organism] OR \"Leopardus pardalis\" [Organism] OR \"Giraffa camelopardalis reticulata\" [Organism] OR \"Trioceros melleri\" [Organism] OR \"Leptailurus serval\" [Organism] OR \"Coendou prehensilis\" [Organism] OR \"Graptemys versa\" [Organism] OR \"Lachesis stenophrys\" [Organism] OR \"Bassariscus sumichrasti\" [Organism] OR \"Python regius\" [Organism] OR \"Leiothrix lutea\" [Organism] OR \"Mycteria ibis\" [Organism] OR \"Amazona finschi\" [Organism] OR \"Panthera leo\" [Organism] OR \"Chelonoidis carbonarius\" [Organism] OR \"Alligator mississippiensis\" [Organism] OR \"Mareca americana\" [Organism] OR \"Pituophis deppei\" [Organism] OR \"Eunectes notaeus\" [Organism] OR \"Kinosternon baurii\" [Organism] OR \"Anas platyrhynchos\" [Organism] OR \"Crotalus horridus horridus\" [Organism] OR \"Ophiophagus hannah\" [Organism] OR \"Arctictis binturong\" [Organism] OR \"Sceloporus jarrovii\" [Organism] OR \"Vulpes zerda\" [Organism] OR \"Ara macao\" [Organism] OR \"Vulpes lagopus\" [Organism] OR \"Cyanoloxia cyanoides\" [Organism] OR \"Naja nigricollis\" [Organism] OR \"Crotalus willardi\" [Organism] OR \"Crotalus atrox\" [Organism] OR \"Caloenas nicobarica\" [Organism] OR \"Thalassornis leuconotus\" [Organism] OR \"Dendrocygna autumnalis\" [Organism] OR \"Buteo swainsoni\" [Organism] OR \"Numida meleagris\" [Organism] OR \"Bothrops erythromelas\" [Organism] OR \"Aspidelaps lubricus lubricus\" [Organism] OR \"Aethia psittacula\" [Organism] OR \"Tyrannus forficatus\" [Organism] OR \"Netta erythrophthalma\" [Organism] OR \"Antigone canadensis\" [Organism] OR \"Ursus maritimus\" [Organism] OR \"Gorilla gorilla gorilla\" [Organism] OR \"Pavo cristatus\" [Organism] OR \"Antilope cervicapra\" [Organism] OR \"Bothrops moojeni\" [Organism] OR \"Papio hamadryas\" [Organism] OR \"Centrochelys sulcata\" [Organism] OR \"Giraffa camelopardalis\" [Organism] OR \"Cygnus melanocoryphus\" [Organism] OR \"Leucophaeus pipixcan\" [Organism] OR \"Terathopius ecaudatus\" [Organism] OR \"Dendroaspis angusticeps\" [Organism] OR \"Spatula clypeata\" [Organism] OR \"Passerina ciris\" [Organism] OR \"Goura victoria\" [Organism] OR \"Falco peregrinus\" [Organism] OR \"Dolichotis patagonum\" [Organism] OR \"Aythya americana\" [Organism] OR \"Lama guanicoe\" [Organism] OR \"Dendroaspis jamesoni\" [Organism] OR \"Lynx rufus\" [Organism] OR \"Chrysocyon brachyurus\" [Organism] OR \"Crotalus molossus\" [Organism] OR \"Camelus dromedarius\" [Organism] OR \"Iguana iguana\" [Organism] OR \"Ictinia mississippiensis\" [Organism] OR \"Python sebae\" [Organism] OR \"Phoenicopterus ruber\" [Organism] OR \"Panthera tigris tigris\" [Organism] OR \"Bitis rhinoceros\" [Organism] OR \"Gekko gecko\" [Organism] OR \"Rhea americana\" [Organism] OR \"Streptopelia capicola\" [Organism] OR \"Kobus ellipsiprymnus\" [Organism] OR \"Chauna torquata\" [Organism] OR \"Pan troglodytes\" [Organism] OR \"Anas hottentota\" [Organism] OR \"Aix sponsa\" [Organism] OR \"Ovis aries\" [Organism] OR \"Boiga dendrophila\" [Organism] OR \"Capra hircus\" [Organism] OR \"Heloderma horridum\" [Organism] OR \"Panthera tigris\" [Organism] OR \"Desmodus rotundus\" [Organism] OR \"Lama glama\" [Organism] OR "
     ]
    }
   ],
   "source": [
    "import csv\n",
    "\n",
    "# Define the path to the CSV file\n",
    "csv_path = \"./animal_data.csv\"\n",
    "\n",
    "# Define the name of the column to extract unique values from\n",
    "column_name = \"scientific_name\"\n",
    "\n",
    "# Create an empty set to store unique values\n",
    "unique_values = set()\n",
    "\n",
    "# Open the CSV file and read the contents\n",
    "with open(csv_path, \"r\") as csv_file:\n",
    "    csv_reader = csv.DictReader(csv_file)\n",
    "    \n",
    "    # Loop through each row in the CSV file and add the value from the specified column to the set\n",
    "    for row in csv_reader:\n",
    "        unique_values.add(row[column_name])\n",
    "        \n",
    "# Print out each unique value in the desired string format\n",
    "for value in unique_values:\n",
    "    print(f'\"{value}\" [Organism] OR ', end='')"
   ]
  },
  {
   "cell_type": "code",
   "execution_count": null,
   "id": "b353077d",
   "metadata": {},
   "outputs": [],
   "source": [
    "for i in unique_values:\n",
    "    print()"
   ]
  }
 ],
 "metadata": {
  "kernelspec": {
   "display_name": "Python 3 (ipykernel)",
   "language": "python",
   "name": "python3"
  },
  "language_info": {
   "codemirror_mode": {
    "name": "ipython",
    "version": 3
   },
   "file_extension": ".py",
   "mimetype": "text/x-python",
   "name": "python",
   "nbconvert_exporter": "python",
   "pygments_lexer": "ipython3",
   "version": "3.9.7"
  }
 },
 "nbformat": 4,
 "nbformat_minor": 5
}
